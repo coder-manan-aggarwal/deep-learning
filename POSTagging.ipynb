{
  "nbformat": 4,
  "nbformat_minor": 0,
  "metadata": {
    "colab": {
      "provenance": [],
      "authorship_tag": "ABX9TyNuaBNb5ZarJMRNerhT5ZbN",
      "include_colab_link": true
    },
    "kernelspec": {
      "name": "python3",
      "display_name": "Python 3"
    },
    "language_info": {
      "name": "python"
    }
  },
  "cells": [
    {
      "cell_type": "markdown",
      "metadata": {
        "id": "view-in-github",
        "colab_type": "text"
      },
      "source": [
        "<a href=\"https://colab.research.google.com/github/coder-manan-aggarwal/deep-learning/blob/main/POSTagging.ipynb\" target=\"_parent\"><img src=\"https://colab.research.google.com/assets/colab-badge.svg\" alt=\"Open In Colab\"/></a>"
      ]
    },
    {
      "cell_type": "code",
      "execution_count": 1,
      "metadata": {
        "colab": {
          "base_uri": "https://localhost:8080/"
        },
        "id": "kEqUtv4yXkIj",
        "outputId": "edc5b680-86ae-4eb5-ba17-f95e2ccf756c"
      },
      "outputs": [
        {
          "output_type": "stream",
          "name": "stdout",
          "text": [
            "Elon  |  PROPN  |  proper noun\n",
            "flew  |  VERB  |  verb\n",
            "to  |  ADP  |  adposition\n",
            "mars  |  NOUN  |  noun\n",
            "yesterday  |  NOUN  |  noun\n",
            ".  |  PUNCT  |  punctuation\n",
            "He  |  PRON  |  pronoun\n",
            "carried  |  VERB  |  verb\n",
            "biryani  |  ADJ  |  adjective\n",
            "masala  |  NOUN  |  noun\n",
            "with  |  ADP  |  adposition\n",
            "him  |  PRON  |  pronoun\n"
          ]
        }
      ],
      "source": [
        "import spacy\n",
        "nlp=spacy.load(\"en_core_web_sm\")\n",
        "doc=nlp(\"Elon flew to mars yesterday. He carried biryani masala with him\")\n",
        "for token in doc:\n",
        "  print(token, \" | \", token.pos_, \" | \", spacy.explain(token.pos_))"
      ]
    },
    {
      "cell_type": "code",
      "source": [
        "doc = nlp(\"Wow! Dr. Strange made 265 million $ on the very first day\")\n",
        "for token in doc:\n",
        "  print(token, \" | \", token.pos_, \" | \", spacy.explain(token.pos_),\" | \", token.tag_, \" | \", spacy.explain(token.tag_))"
      ],
      "metadata": {
        "colab": {
          "base_uri": "https://localhost:8080/"
        },
        "id": "sSH4FReVaZ9j",
        "outputId": "38a09850-1c5c-4c82-fd80-bd008213f9fe"
      },
      "execution_count": 2,
      "outputs": [
        {
          "output_type": "stream",
          "name": "stdout",
          "text": [
            "Wow  |  INTJ  |  interjection  |  UH  |  interjection\n",
            "!  |  PUNCT  |  punctuation  |  .  |  punctuation mark, sentence closer\n",
            "Dr.  |  PROPN  |  proper noun  |  NNP  |  noun, proper singular\n",
            "Strange  |  PROPN  |  proper noun  |  NNP  |  noun, proper singular\n",
            "made  |  VERB  |  verb  |  VBD  |  verb, past tense\n",
            "265  |  NUM  |  numeral  |  CD  |  cardinal number\n",
            "million  |  NUM  |  numeral  |  CD  |  cardinal number\n",
            "$  |  NUM  |  numeral  |  CD  |  cardinal number\n",
            "on  |  ADP  |  adposition  |  IN  |  conjunction, subordinating or preposition\n",
            "the  |  DET  |  determiner  |  DT  |  determiner\n",
            "very  |  ADV  |  adverb  |  RB  |  adverb\n",
            "first  |  ADJ  |  adjective  |  JJ  |  adjective (English), other noun-modifier (Chinese)\n",
            "day  |  NOUN  |  noun  |  NN  |  noun, singular or mass\n"
          ]
        }
      ]
    },
    {
      "cell_type": "code",
      "source": [
        "doc = nlp(\"He quits the job\")\n",
        "doc[1]\n",
        "print(doc[1].text, \" | \", doc[1].tag_, \" | \", spacy.explain(doc[1].tag_))"
      ],
      "metadata": {
        "colab": {
          "base_uri": "https://localhost:8080/"
        },
        "id": "WQasvwsubLqR",
        "outputId": "aa5f8b7f-2edc-4645-bcb5-4d24c30fd3a5"
      },
      "execution_count": 3,
      "outputs": [
        {
          "output_type": "stream",
          "name": "stdout",
          "text": [
            "quits  |  VBZ  |  verb, 3rd person singular present\n"
          ]
        }
      ]
    },
    {
      "cell_type": "code",
      "source": [
        "doc = nlp(\"He quit the job\")\n",
        "doc[1]\n",
        "print(doc[1].text, \" | \", doc[1].tag_, \" | \", spacy.explain(doc[1].tag_))"
      ],
      "metadata": {
        "colab": {
          "base_uri": "https://localhost:8080/"
        },
        "id": "GYjaEUlabRRG",
        "outputId": "fb6b6f08-6632-4aac-b283-818b8b111d45"
      },
      "execution_count": 4,
      "outputs": [
        {
          "output_type": "stream",
          "name": "stdout",
          "text": [
            "quit  |  VBD  |  verb, past tense\n"
          ]
        }
      ]
    },
    {
      "cell_type": "code",
      "source": [
        "earnings_text=\"\"\"Microsoft Corp. today announced the following results for the quarter ended December 31, 2021, as compared to the corresponding period of last fiscal year:\n",
        "\n",
        "·         Revenue was $51.7 billion and increased 20%\n",
        "·         Operating income was $22.2 billion and increased 24%\n",
        "·         Net income was $18.8 billion and increased 21%\n",
        "·         Diluted earnings per share was $2.48 and increased 22%\n",
        "“Digital technology etc. is the most malleable resource at the world’s disposal to overcome constraints and reimagine everyday work and life,” said Satya Nadella, chairman and chief executive officer of Microsoft. “As tech as a percentage of global GDP continues to increase, we are innovating and investing across diverse and growing markets, with a common underlying technology stack and an operating model that reinforces a common strategy, culture, and sense of purpose.”\n",
        "“Solid commercial execution, represented by strong bookings growth driven by long-term Azure commitments, increased Microsoft Cloud revenue to $22.1 billion, up 32% year over year” said Amy Hood, executive vice president and chief financial officer of Microsoft.\"\"\"\n"
      ],
      "metadata": {
        "id": "-DNSlemwbsog"
      },
      "execution_count": 5,
      "outputs": []
    },
    {
      "cell_type": "code",
      "source": [
        "doc=nlp(earnings_text)"
      ],
      "metadata": {
        "id": "8_SJl2Sabv6q"
      },
      "execution_count": 6,
      "outputs": []
    },
    {
      "cell_type": "code",
      "source": [
        "filtered_tokens=[]\n",
        "for token in doc:\n",
        "  if token.pos_ not in ['SPACE', \"X\",'PUNCT']:\n",
        "    filtered_tokens.append(token)\n",
        "filtered_tokens[:20]"
      ],
      "metadata": {
        "colab": {
          "base_uri": "https://localhost:8080/"
        },
        "id": "_fd1bnUfbzbL",
        "outputId": "3227582a-ac34-4b98-d93b-b0abf72f85a3"
      },
      "execution_count": 9,
      "outputs": [
        {
          "output_type": "execute_result",
          "data": {
            "text/plain": [
              "[Microsoft,\n",
              " Corp.,\n",
              " today,\n",
              " announced,\n",
              " the,\n",
              " following,\n",
              " results,\n",
              " for,\n",
              " the,\n",
              " quarter,\n",
              " ended,\n",
              " December,\n",
              " 31,\n",
              " 2021,\n",
              " as,\n",
              " compared,\n",
              " to,\n",
              " the,\n",
              " corresponding,\n",
              " period]"
            ]
          },
          "metadata": {},
          "execution_count": 9
        }
      ]
    },
    {
      "cell_type": "code",
      "source": [
        "count = doc.count_by(spacy.attrs.POS)\n",
        "count"
      ],
      "metadata": {
        "colab": {
          "base_uri": "https://localhost:8080/"
        },
        "id": "wNFS9yhlc84Q",
        "outputId": "cb1af877-a73d-40ef-eab3-434960eb9c17"
      },
      "execution_count": 10,
      "outputs": [
        {
          "output_type": "execute_result",
          "data": {
            "text/plain": [
              "{96: 15,\n",
              " 92: 45,\n",
              " 100: 23,\n",
              " 90: 9,\n",
              " 85: 16,\n",
              " 93: 16,\n",
              " 97: 27,\n",
              " 98: 1,\n",
              " 84: 20,\n",
              " 103: 10,\n",
              " 87: 6,\n",
              " 99: 5,\n",
              " 89: 12,\n",
              " 86: 3,\n",
              " 94: 3,\n",
              " 95: 2}"
            ]
          },
          "metadata": {},
          "execution_count": 10
        }
      ]
    },
    {
      "cell_type": "code",
      "source": [
        "for k,v in count.items():\n",
        "  print(doc.vocab[k].text,v)"
      ],
      "metadata": {
        "colab": {
          "base_uri": "https://localhost:8080/"
        },
        "id": "36J-VE5cdCPE",
        "outputId": "a3899377-2e75-4144-ba0c-27f81dbe3010"
      },
      "execution_count": 12,
      "outputs": [
        {
          "output_type": "stream",
          "name": "stdout",
          "text": [
            "PROPN 15\n",
            "NOUN 45\n",
            "VERB 23\n",
            "DET 9\n",
            "ADP 16\n",
            "NUM 16\n",
            "PUNCT 27\n",
            "SCONJ 1\n",
            "ADJ 20\n",
            "SPACE 10\n",
            "AUX 6\n",
            "SYM 5\n",
            "CCONJ 12\n",
            "ADV 3\n",
            "PART 3\n",
            "PRON 2\n"
          ]
        }
      ]
    }
  ]
}